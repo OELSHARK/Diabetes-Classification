{
  "nbformat": 4,
  "nbformat_minor": 0,
  "metadata": {
    "colab": {
      "provenance": [],
      "authorship_tag": "ABX9TyNWZ4CLUCWfDFulghUa8xrT",
      "include_colab_link": true
    },
    "kernelspec": {
      "name": "python3",
      "display_name": "Python 3"
    },
    "language_info": {
      "name": "python"
    }
  },
  "cells": [
    {
      "cell_type": "markdown",
      "metadata": {
        "id": "view-in-github",
        "colab_type": "text"
      },
      "source": [
        "<a href=\"https://colab.research.google.com/github/OELSHARK/Diabetes-Classification/blob/main/Untitled2.ipynb\" target=\"_parent\"><img src=\"https://colab.research.google.com/assets/colab-badge.svg\" alt=\"Open In Colab\"/></a>"
      ]
    },
    {
      "cell_type": "markdown",
      "source": [],
      "metadata": {
        "id": "5FpGM0BdTeUY"
      }
    },
    {
      "cell_type": "markdown",
      "source": [
        "Design and implement a Python application that simulates a stationary store. The application should begin by displaying a list of available\n",
        "stationary products (e.g., notebooks, pens, pencils) along with their prices and quantities in stock using the Pretty Table library. The user should\n",
        "then be prompted to enter the name of the product they wish to purchase, ensuring the input is valid by checking against the list of available\n",
        "products. The user must also specify the quantity they want to buy, and the program should verify that the requested quantity does not exceed\n",
        "the stock available.\n",
        "For every 50 units purchased of any product, a 2% loyalty discount should be applied to the total price of that product. The program must then\n",
        "update the product's stock based on the quantity purchased. After the user has finished selecting items, they should be given the option to\n",
        "choose between delivery or pick-up, with corresponding charges applied. The final step is for the user to select a payment currency (USD, EUR,\n",
        "or EGP), and the application should convert the total price into the chosen currency using pre-defined exchange rates. The final output should\n",
        "display the total discounted price in the selected currency, along with a confirmation message that their order is on the way.\n",
        "delivery_charge = 200 pickup_charge = 50\n",
        "usd to eur rate = 0.9 usd to ead rate = 50.00"
      ],
      "metadata": {
        "id": "gwRKhHtBTg8Y"
      }
    },
    {
      "cell_type": "code",
      "execution_count": null,
      "metadata": {
        "id": "ts-iR0FPTXnV"
      },
      "outputs": [],
      "source": [
        "from prettytable import PrettyTable\n",
        "# \" Products in our company\n",
        "products =[\n",
        "   {\"Name\":\"Water\", \"Price\": 80.01,\"Quantity\": 1200} ,\n",
        "   {\"Name\": \"Soda\", \"Price\": 130.0,\"Quantity\": 1200},\n",
        "   {\"Name\": \"Chips\", \"Price\": 75.0,\"Quantity\": 1200},\n",
        "   {\"Name\": \"Bread\", \"Price\": 45.0,\"Quantity\": 1200},\n",
        "   {\"Name\": \"Eggs\", \"Price\": 65.0,\"Quantity\": 1200},\n",
        "]\n",
        "\n",
        "delivery_charge = 200\n",
        "pickup_charge = 50\n",
        "usd_to_eur_rate = 0.9\n",
        "usd_to_egp_rate = 50.00\n",
        "\n",
        "\n",
        "\n",
        "\n",
        "\n",
        "\n",
        "\n",
        "\n",
        "table = PrettyTable()\n",
        "table.field_names = [\"Name\", \"Price\", \"Quantity\"]\n",
        "for product in products:\n",
        "    table.add_row([product[\"Name\"], product[\"Price\"], product[\"Quantity\"]])\n",
        "print(table)\n",
        "\n",
        "\n",
        "\n",
        "product_name = input(\"Enter your item name : \").strip() # Get the product name from user input.\n",
        "\n",
        "product_found = None\n",
        "for product in products:\n",
        "  if product['Name'] == product_name:\n",
        "    product_found = product\n",
        "    break\n",
        "\n",
        "if product_found is None:\n",
        "  print(\"ERROR: Product not found.\")\n",
        "  exit()\n",
        "product_quantity = int(input(\"Enter your item quantity : \"))\n",
        "\n",
        "if product_quantity > product_found[\"Quantity\"]:\n",
        "  print(\"ERROR: Insufficient quantity.\")\n",
        "  exit()\n",
        "\n",
        "total_price = product_found[\"Price\"] * product_quantity\n",
        "if product_quantity >= 50:\n",
        "  loyalty_discout = int(product_quantity / 50)\n",
        "  discount = loyalty_discout * 0.02\n",
        "  total_price -= total_price * discount # Apply discount to the total price.\n",
        "  print(f\"A loyalty discount of {discount:.2f} USD has been applied.\")\n",
        "\n",
        "\n",
        "\n",
        "\n",
        "product_found['Quantity'] -= product_quantity\n",
        "\n",
        "delivery_option = input(\"Choose delivery or pickup (d/p): \").lower()\n",
        "if delivery_option == \"d\":\n",
        "     total_price += delivery_charge\n",
        "elif delivery_option == \"p\":\n",
        "     total_price += pickup_charge\n",
        "else:\n",
        "     print(\"Invalid option. Please choose 'd' for delivery or 'p' for pickup.\")\n",
        "     exit()\n",
        "\n",
        "currency = input(\"Choose currency (egp/eur/usd): \").lower()\n",
        "if currency == \"egp\":\n",
        "     total_price *= usd_to_egp_rate\n",
        "elif currency == \"eur\":\n",
        "     total_price *= usd_to_eur_rate\n",
        "\n",
        "elif currency == \"usd\":\n",
        "     pass\n",
        "else:\n",
        "     print(\"Invalid currency. Please choose 'egp' for Egyptian pound, 'eur' for Euro, or 'usd' for US dollar.\")\n",
        "     exit()\n",
        "\n",
        "\n",
        "\n",
        "print(f\"Total price in {currency}: {total_price:.2f}\")\n",
        "print(\"Thank you for your order. It is on the way!\")\n",
        ""
      ]
    }
  ]
}